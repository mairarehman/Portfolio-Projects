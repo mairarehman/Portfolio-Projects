{
 "cells": [
  {
   "cell_type": "code",
   "execution_count": 1,
   "id": "2bacaa1e",
   "metadata": {},
   "outputs": [],
   "source": [
    "import pandas as pd"
   ]
  },
  {
   "cell_type": "code",
   "execution_count": 4,
   "id": "a32d99b9",
   "metadata": {},
   "outputs": [],
   "source": [
    "IRA_tweets_1 = pd.read_csv(\"https://raw.githubusercontent.com/fivethirtyeight/russian-troll-tweets/master/IRAhandle_tweets_1.csv\")\n",
    "IRA_tweets_2 = pd.read_csv(\"https://raw.githubusercontent.com/fivethirtyeight/russian-troll-tweets/master/IRAhandle_tweets_2.csv\")\n",
    "IRA_tweets_3 = pd.read_csv(\"https://raw.githubusercontent.com/fivethirtyeight/russian-troll-tweets/master/IRAhandle_tweets_3.csv\")\n",
    "IRA_tweets_4 = pd.read_csv(\"https://raw.githubusercontent.com/fivethirtyeight/russian-troll-tweets/master/IRAhandle_tweets_4.csv\")\n",
    "IRA_tweets_5 = pd.read_csv(\"https://raw.githubusercontent.com/fivethirtyeight/russian-troll-tweets/master/IRAhandle_tweets_5.csv\")\n",
    "IRA_tweets_6 = pd.read_csv(\"https://raw.githubusercontent.com/fivethirtyeight/russian-troll-tweets/master/IRAhandle_tweets_6.csv\")\n",
    "IRA_tweets_7 = pd.read_csv(\"https://raw.githubusercontent.com/fivethirtyeight/russian-troll-tweets/master/IRAhandle_tweets_7.csv\")\n",
    "IRA_tweets_8 = pd.read_csv(\"https://raw.githubusercontent.com/fivethirtyeight/russian-troll-tweets/master/IRAhandle_tweets_8.csv\")\n",
    "IRA_tweets_9 = pd.read_csv(\"https://raw.githubusercontent.com/fivethirtyeight/russian-troll-tweets/master/IRAhandle_tweets_9.csv\")\n",
    "IRA_tweets_10 = pd.read_csv(\"https://raw.githubusercontent.com/fivethirtyeight/russian-troll-tweets/master/IRAhandle_tweets_10.csv\")\n",
    "IRA_tweets_11 = pd.read_csv(\"https://raw.githubusercontent.com/fivethirtyeight/russian-troll-tweets/master/IRAhandle_tweets_11.csv\")\n",
    "IRA_tweets_12 = pd.read_csv(\"https://raw.githubusercontent.com/fivethirtyeight/russian-troll-tweets/master/IRAhandle_tweets_12.csv\")\n",
    "IRA_tweets_13 = pd.read_csv(\"https://raw.githubusercontent.com/fivethirtyeight/russian-troll-tweets/master/IRAhandle_tweets_13.csv\")"
   ]
  },
  {
   "cell_type": "code",
   "execution_count": 6,
   "id": "7392057e",
   "metadata": {},
   "outputs": [],
   "source": [
    "IRA_allfiles = [IRA_tweets_1, IRA_tweets_2, IRA_tweets_3, IRA_tweets_4, IRA_tweets_5, IRA_tweets_6, IRA_tweets_7, IRA_tweets_8, IRA_tweets_9, IRA_tweets_10, IRA_tweets_11, IRA_tweets_12, IRA_tweets_13]\n",
    "IRA_bigdf = pd.concat(IRA_allfiles)"
   ]
  },
  {
   "cell_type": "code",
   "execution_count": 7,
   "id": "44013f38",
   "metadata": {},
   "outputs": [
    {
     "data": {
      "text/plain": [
       "(2116867, 21)"
      ]
     },
     "execution_count": 7,
     "metadata": {},
     "output_type": "execute_result"
    }
   ],
   "source": [
    "# We only want English language text\n",
    "\n",
    "IRA_bigdf = IRA_bigdf[IRA_bigdf['language'] == 'English']\n",
    "IRA_bigdf.shape"
   ]
  },
  {
   "cell_type": "code",
   "execution_count": 9,
   "id": "e107a47c",
   "metadata": {},
   "outputs": [],
   "source": [
    "IRAall_texts0 = IRA_bigdf['content']"
   ]
  },
  {
   "cell_type": "code",
   "execution_count": 10,
   "id": "3063583a",
   "metadata": {},
   "outputs": [],
   "source": [
    "IRAall_texts0 = ' '.join([str(elem) for elem in IRAall_texts0])"
   ]
  },
  {
   "cell_type": "code",
   "execution_count": 11,
   "id": "98d659d3",
   "metadata": {},
   "outputs": [],
   "source": [
    "IRAall_texts0 = IRAall_texts0.split()"
   ]
  },
  {
   "cell_type": "code",
   "execution_count": 14,
   "id": "97a096d5",
   "metadata": {},
   "outputs": [],
   "source": [
    "import re\n",
    "clean_tweets = []\n",
    "for tweet in IRAall_texts0:\n",
    "    tweet = re.sub(\"@[A-Za-z0-9]+\",\"\",tweet) #Remove @ sign\n",
    "    tweet = re.sub(r\"(?:\\@|http?\\://|https?\\://|www)\\S+\", \"\", tweet)\n",
    "    #Here's where all the cleaning takes place\n",
    "    clean_tweets.append(tweet)\n",
    "IRAall_texts0 = clean_tweets"
   ]
  },
  {
   "cell_type": "code",
   "execution_count": 15,
   "id": "b5e3bce3",
   "metadata": {},
   "outputs": [
    {
     "name": "stderr",
     "output_type": "stream",
     "text": [
      "[nltk_data] Downloading package punkt to\n",
      "[nltk_data]     C:\\Users\\maira\\AppData\\Roaming\\nltk_data...\n",
      "[nltk_data]   Package punkt is already up-to-date!\n"
     ]
    }
   ],
   "source": [
    "# Sentence Tokenize (word2vec takes sentences)\n",
    "\n",
    "import nltk\n",
    "nltk.download('punkt')\n",
    "sentences = [sentence for tweet in IRAall_texts0 for sentence in nltk.sent_tokenize(tweet)]"
   ]
  },
  {
   "cell_type": "code",
   "execution_count": 18,
   "id": "8a25fabc",
   "metadata": {},
   "outputs": [],
   "source": [
    "def fast_tokenize(IRAall_texts0):\n",
    "    \n",
    "    # Get a list of punctuation marks\n",
    "    from string import punctuation\n",
    "    \n",
    "    # Iterate through text removing punctuation characters\n",
    "    no_punct = \"\".join([char for char in IRAall_texts0 if char not in punctuation])\n",
    "    \n",
    "    # Split text over whitespace into list of words\n",
    "    tokens = no_punct.split()\n",
    "    \n",
    "    return tokens"
   ]
  },
  {
   "cell_type": "code",
   "execution_count": 19,
   "id": "2c7d4def",
   "metadata": {},
   "outputs": [],
   "source": [
    "# Word tokenize\n",
    "\n",
    "words_by_sentence = [fast_tokenize(sentence.lower()) for sentence in sentences]"
   ]
  },
  {
   "cell_type": "code",
   "execution_count": 20,
   "id": "8dc26f47",
   "metadata": {},
   "outputs": [
    {
     "data": {
      "text/plain": [
       "([['we'], ['have'], ['a'], ['sitting'], ['democrat']], 24947557)"
      ]
     },
     "execution_count": 20,
     "metadata": {},
     "output_type": "execute_result"
    }
   ],
   "source": [
    "# Inspect # Sanity check\n",
    "\n",
    "words_by_sentence[0:5], len(words_by_sentence)"
   ]
  },
  {
   "cell_type": "code",
   "execution_count": 21,
   "id": "7d506de4",
   "metadata": {},
   "outputs": [],
   "source": [
    "#Train word2vec using CBOW\n",
    "\n",
    "# CBOW vs SKIP GRAM information\n",
    "\n",
    "import gensim\n",
    "model = gensim.models.Word2Vec(words_by_sentence, window=5, \\\n",
    "                               min_count=5, sg=0, alpha=0.025, batch_words=10000)"
   ]
  },
  {
   "cell_type": "code",
   "execution_count": 22,
   "id": "ca280664",
   "metadata": {},
   "outputs": [
    {
     "data": {
      "text/plain": [
       "array([-0.00950012,  0.00956222, -0.00777076, -0.00264551, -0.00490641,\n",
       "       -0.0049667 , -0.00802359, -0.00778358, -0.00455321, -0.00127536,\n",
       "       -0.00510299,  0.00614054, -0.00951662, -0.0053071 ,  0.00943715,\n",
       "        0.00699133,  0.00767581,  0.00423474,  0.00050709, -0.00598114,\n",
       "        0.00601878,  0.00263503,  0.00769943,  0.00639384,  0.00794257,\n",
       "        0.00865741, -0.00989576, -0.0067557 ,  0.00133757,  0.0064403 ,\n",
       "        0.00737381,  0.00551698,  0.00766162, -0.00512557,  0.00658441,\n",
       "       -0.00410837, -0.00905534,  0.00914168,  0.0013314 , -0.00275968,\n",
       "       -0.00247784, -0.00422048,  0.00481234,  0.00440022, -0.00265336,\n",
       "       -0.00734188, -0.00356585, -0.00033662,  0.00609589, -0.00283734,\n",
       "       -0.00012089,  0.00087973, -0.00709565,  0.002065  , -0.00143242,\n",
       "        0.00280215,  0.00484222, -0.00135202, -0.00278014,  0.00773865,\n",
       "        0.0050456 ,  0.00671352,  0.00451564,  0.00866715,  0.00747497,\n",
       "       -0.00108189,  0.00874764,  0.00460172,  0.00544063, -0.00138608,\n",
       "       -0.00204132, -0.00442435, -0.0085152 ,  0.00303773,  0.00888319,\n",
       "        0.00891974, -0.00194236,  0.00608616,  0.00377972, -0.00429597,\n",
       "        0.00204292, -0.00543789,  0.00820889,  0.00543291,  0.00318443,\n",
       "        0.00410257,  0.00865715,  0.00727203, -0.00083347, -0.00707277,\n",
       "        0.00838047,  0.00723358,  0.00173047, -0.00134749, -0.00589009,\n",
       "       -0.00453309,  0.00864797, -0.00313511, -0.00633882,  0.00987008],\n",
       "      dtype=float32)"
      ]
     },
     "execution_count": 22,
     "metadata": {},
     "output_type": "execute_result"
    }
   ],
   "source": [
    "# OK model is trained, let's use it to explore our corpus\n",
    "\n",
    "# Return dense word vector, we'll be able to see 100 words and how close they are to the word 'trump'\n",
    "model.wv['trump']"
   ]
  },
  {
   "cell_type": "code",
   "execution_count": 86,
   "id": "14fc5da4",
   "metadata": {},
   "outputs": [
    {
     "data": {
      "text/plain": [
       "[('srinivas', 0.41791751980781555),\n",
       " ('trumped', 0.4107331335544586),\n",
       " ('i15', 0.39879587292671204),\n",
       " ('photogate', 0.3865368664264679),\n",
       " ('“she', 0.3852027356624603),\n",
       " ('raisedfist', 0.3835470676422119),\n",
       " ('rangel', 0.3745536208152771),\n",
       " ('mismatch', 0.37148329615592957),\n",
       " ('kimkardashian', 0.37126851081848145),\n",
       " ('omaha', 0.3698345422744751)]"
      ]
     },
     "execution_count": 86,
     "metadata": {},
     "output_type": "execute_result"
    }
   ],
   "source": [
    "model.wv.most_similar(positive=['trump'], topn=10)"
   ]
  },
  {
   "cell_type": "code",
   "execution_count": 31,
   "id": "a0398568",
   "metadata": {},
   "outputs": [
    {
     "data": {
      "text/plain": [
       "0.5274745"
      ]
     },
     "execution_count": 31,
     "metadata": {},
     "output_type": "execute_result"
    }
   ],
   "source": [
    "# Find cosine distance between two clusters of word vectors\n",
    "# Each cluster is measured as the mean of its words\n",
    "\n",
    "model.wv.n_similarity(['trump','democracy'],['hilary','democracy'])"
   ]
  },
  {
   "cell_type": "code",
   "execution_count": 32,
   "id": "434384f3",
   "metadata": {},
   "outputs": [
    {
     "data": {
      "text/plain": [
       "'democracy'"
      ]
     },
     "execution_count": 32,
     "metadata": {},
     "output_type": "execute_result"
    }
   ],
   "source": [
    "# Finds mean vector of words in list\n",
    "# and identifies the word further from that mean\n",
    "\n",
    "model.wv.doesnt_match(['trump','democracy', 'freedom'])"
   ]
  },
  {
   "cell_type": "code",
   "execution_count": 83,
   "id": "25b163ce",
   "metadata": {},
   "outputs": [
    {
     "data": {
      "text/plain": [
       "[('shave', 0.40912172198295593),\n",
       " ('sister’s', 0.394317090511322),\n",
       " ('ac…', 0.37732642889022827),\n",
       " ('chachi', 0.37455374002456665),\n",
       " ('photogate', 0.3685385286808014),\n",
       " ('biff', 0.3595733940601349),\n",
       " ('passerby', 0.35515421628952026),\n",
       " ('hate', 0.3534519076347351),\n",
       " ('unmentioned', 0.3521404564380646),\n",
       " ('offend', 0.35208383202552795)]"
      ]
     },
     "execution_count": 83,
     "metadata": {},
     "output_type": "execute_result"
    }
   ],
   "source": [
    "# Most similar terms\n",
    "\n",
    "model.wv.most_similar(positive=['trump', 'freedom'], topn=10)"
   ]
  },
  {
   "cell_type": "code",
   "execution_count": 33,
   "id": "66b0faa7",
   "metadata": {},
   "outputs": [
    {
     "data": {
      "text/plain": [
       "[('grayslake', 0.4189106523990631),\n",
       " ('hierarchy', 0.4024028182029724),\n",
       " ('outside', 0.3799859881401062),\n",
       " ('americaisoverparty', 0.37502139806747437),\n",
       " ('gloria', 0.3691903054714203),\n",
       " ('addicts', 0.3689875602722168),\n",
       " ('altering', 0.3665294647216797),\n",
       " ('disneythemed', 0.3647427260875702),\n",
       " ('ibm', 0.3646540343761444),\n",
       " ('address', 0.36388489603996277)]"
      ]
     },
     "execution_count": 33,
     "metadata": {},
     "output_type": "execute_result"
    }
   ],
   "source": [
    "# Vector arithmetic\n",
    "\n",
    "model.wv.most_similar(positive=['man', 'president'], negative=['woman'], topn=10)"
   ]
  },
  {
   "cell_type": "code",
   "execution_count": 53,
   "id": "9cf7a72a",
   "metadata": {},
   "outputs": [],
   "source": [
    "# Let's do a simple visualization of a vector\n",
    "\n",
    "# Instantiate a vector\n",
    "\n",
    "white_vector = model.wv.most_similar(positive=['trump', 'white'], topn=15)\n",
    "\n",
    "# Just get words\n",
    "\n",
    "white_tokens = [token for token, weight in white_vector]"
   ]
  },
  {
   "cell_type": "code",
   "execution_count": 55,
   "id": "e17919e8",
   "metadata": {},
   "outputs": [],
   "source": [
    "# Get the vector for each sampled word\n",
    "\n",
    "vectors = [model.wv[word] for word in white_tokens] "
   ]
  },
  {
   "cell_type": "code",
   "execution_count": 56,
   "id": "a9c8cb13",
   "metadata": {},
   "outputs": [],
   "source": [
    "# Calculate distances among texts in vector space\n",
    "\n",
    "from sklearn.metrics import pairwise\n",
    "dist_matrix = pairwise.pairwise_distances(vectors, metric='cosine')"
   ]
  },
  {
   "cell_type": "code",
   "execution_count": 57,
   "id": "81fb6261",
   "metadata": {},
   "outputs": [],
   "source": [
    "# Multi-Dimensional Scaling\n",
    "\n",
    "from sklearn.manifold import MDS\n",
    "mds = MDS(n_components = 2, dissimilarity='precomputed')\n",
    "embeddings = mds.fit_transform(dist_matrix)"
   ]
  },
  {
   "cell_type": "code",
   "execution_count": 58,
   "id": "f3f370e6",
   "metadata": {},
   "outputs": [
    {
     "data": {
      "image/png": "[encoded data removed]",
      "text/plain": [
       "<Figure size 720x720 with 1 Axes>"
      ]
     },
     "metadata": {
      "needs_background": "light"
     },
     "output_type": "display_data"
    }
   ],
   "source": [
    "# Matplotlib\n",
    "\n",
    "import matplotlib.pyplot as plt\n",
    "\n",
    "_, ax = plt.subplots(figsize=(10,10))\n",
    "ax.scatter(embeddings[:,0], embeddings[:,1], alpha=0)\n",
    "for i in range(len(vectors)):\n",
    "    ax.annotate(white_tokens[i], ((embeddings[i,0], embeddings[i,1])))"
   ]
  },
  {
   "cell_type": "code",
   "execution_count": 84,
   "id": "b12c3347",
   "metadata": {},
   "outputs": [
    {
     "data": {
      "text/plain": [
       "(20, 20)"
      ]
     },
     "execution_count": 84,
     "metadata": {},
     "output_type": "execute_result"
    }
   ],
   "source": [
    "### Words in relation to vectors\n",
    "\n",
    "america_terms = model.wv.most_similar(positive=['america'], topn=20)\n",
    "america_terms = [word for word, score in america_terms]\n",
    "\n",
    "trump_scores = []\n",
    "obama_scores = []\n",
    "\n",
    "for word in america_terms:\n",
    "    score = model.wv.similarity(word, 'trump')\n",
    "    trump_scores.append(score)\n",
    "    \n",
    "for word in america_terms:\n",
    "    score = model.wv.similarity(word, 'hilary')\n",
    "    obama_scores.append(score)\n",
    "    \n",
    "len(trump_scores), len(obama_scores)"
   ]
  },
  {
   "cell_type": "code",
   "execution_count": 85,
   "id": "10dfb70c",
   "metadata": {},
   "outputs": [
    {
     "data": {
      "image/png": "[encoded data removed]",
      "text/plain": [
       "<Figure size 720x720 with 1 Axes>"
      ]
     },
     "metadata": {
      "needs_background": "light"
     },
     "output_type": "display_data"
    }
   ],
   "source": [
    "# Simple plot\n",
    "\n",
    "plt.rcParams.update({'font.size': 12})\n",
    "_, ax = plt.subplots(figsize=(10, 10))\n",
    "ax.scatter(trump_scores, obama_scores)\n",
    "plt.xlabel ('TRUMP')\n",
    "plt.ylabel ('OBAMA')\n",
    "\n",
    "for i, txt in enumerate(america_terms):\n",
    "    ax.annotate(txt, (trump_scores[i], obama_scores[i]))"
   ]
  }
 ],
 "metadata": {
  "kernelspec": {
   "display_name": "Python 3 (ipykernel)",
   "language": "python",
   "name": "python3"
  },
  "language_info": {
   "codemirror_mode": {
    "name": "ipython",
    "version": 3
   },
   "file_extension": ".py",
   "mimetype": "text/x-python",
   "name": "python",
   "nbconvert_exporter": "python",
   "pygments_lexer": "ipython3",
   "version": "3.9.7"
  }
 },
 "nbformat": 4,
 "nbformat_minor": 5
}
